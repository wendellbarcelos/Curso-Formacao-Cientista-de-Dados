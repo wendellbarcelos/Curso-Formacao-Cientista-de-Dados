{
 "cells": [
  {
   "cell_type": "markdown",
   "id": "62ca6215",
   "metadata": {},
   "source": [
    "## Formação Cientista de dados - Prof. Fernando Amaral\n",
    "\n",
    "Variáveis e Objetos"
   ]
  },
  {
   "cell_type": "code",
   "execution_count": 1,
   "id": "630589c3",
   "metadata": {},
   "outputs": [
    {
     "name": "stdout",
     "output_type": "stream",
     "text": [
      "1\n",
      "3.13\n",
      "Python\n",
      "False\n",
      "30.0\n",
      "Este texto será impresso no console\n",
      "10\n",
      "Texto e duas variáveis:  10 ,  100\n",
      "<class 'int'>\n",
      "<class 'str'>\n"
     ]
    }
   ],
   "source": [
    "#Cria variável do tipo inteiro\n",
    "x = 1\n",
    "print(x)\n",
    "#Cria variável do tipo float\n",
    "y = 3.13\n",
    "print(y)\n",
    "#Cria variável do tipo string\n",
    "m = \"Python\"\n",
    "m = 'Python'\n",
    "print(m)\n",
    "#Cria variável do tipo lógica\n",
    "w = True  \n",
    "y = False\n",
    "print(y)\n",
    "\n",
    "#calculadora\n",
    "x = 10\n",
    "y = 20\n",
    "z = 100\n",
    "w = (x + y) * z / 100\n",
    "print(w)\n",
    "\n",
    "#exibir texto no console\n",
    "print(\"Este texto será impresso no console\")\n",
    "print(x)\n",
    "print(\"Texto e duas variáveis: \", x ,\", \", z)\n",
    "\n",
    "#verificar tipo\n",
    "print(type(x))\n",
    "print(type(m))\n"
   ]
  },
  {
   "cell_type": "code",
   "execution_count": 2,
   "id": "28ea1cf7",
   "metadata": {},
   "outputs": [
    {
     "name": "stdout",
     "output_type": "stream",
     "text": [
      "Informe o valor: \n",
      "45\n",
      "<class 'str'>\n",
      "Informe o valor: \n",
      "58\n",
      "Informe o valor: 54\n",
      "Informe o valor: 21\n",
      "<class 'str'>\n",
      "<class 'int'>\n",
      "Informe o valor: 49\n",
      "<class 'str'>\n",
      "<class 'float'>\n"
     ]
    }
   ],
   "source": [
    "#entrada de dados\n",
    "print(\"Informe o valor: \")\n",
    "i = input()\n",
    "#mostra tipo string\n",
    "print(type(i))\n",
    "\n",
    "#entrada de valor com msg separada e junto\n",
    "print(\"Informe o valor: \")\n",
    "i = input()\n",
    "# ou\n",
    "i = input(\"Informe o valor: \")\n",
    "\n",
    "#conversão de valores\n",
    "#para inteiro\n",
    "var = input(\"Informe o valor: \")\n",
    "print(type(var))\n",
    "var = int(var)\n",
    "print(type(var))\n",
    "\n",
    "#para float\n",
    "var = input(\"Informe o valor: \")\n",
    "print(type(var))\n",
    "var = float(var)\n",
    "print(type(var))"
   ]
  },
  {
   "cell_type": "markdown",
   "id": "562f246f",
   "metadata": {},
   "source": [
    "Estrutura de Decisão"
   ]
  },
  {
   "cell_type": "code",
   "execution_count": 3,
   "id": "3e595a81",
   "metadata": {},
   "outputs": [
    {
     "name": "stdout",
     "output_type": "stream",
     "text": [
      "Aprovado\n",
      "Parabéns!\n",
      "Reprovado\n",
      "Aprovado\n"
     ]
    }
   ],
   "source": [
    "nota = 7\n",
    "if nota >= 7:\n",
    "    print(\"Aprovado\")\n",
    "    print(\"Parabéns!\")\n",
    "else:\n",
    "    print(\"Reprovado\")\n",
    "    \n",
    "#só mudar o valor da variável\n",
    "nota = 5\n",
    "if nota >= 7:\n",
    "    print(\"Aprovado\")\n",
    "else:\n",
    "    print(\"Reprovado\")\n",
    "    \n",
    "#Testar com 4,5 e 7\n",
    "nota = 7\n",
    "if nota <= 4:\n",
    "    print(\"Reprovado\")\n",
    "elif nota > 4 and nota <=6:\n",
    "    print(\"Exame\")\n",
    "else:\n",
    "    print(\"Aprovado\")"
   ]
  },
  {
   "cell_type": "markdown",
   "id": "bc31c82f",
   "metadata": {},
   "source": [
    "Estrutura de Repetição"
   ]
  },
  {
   "cell_type": "code",
   "execution_count": 4,
   "id": "b51dcd63",
   "metadata": {},
   "outputs": [
    {
     "name": "stdout",
     "output_type": "stream",
     "text": [
      "1\n",
      "2\n",
      "3\n",
      "4\n",
      "5\n",
      "1\n",
      "2\n",
      "3\n",
      "4\n",
      "5\n",
      "6\n",
      "7\n",
      "8\n",
      "9\n",
      "10\n",
      "1\n",
      "2\n",
      "3\n",
      "4\n",
      "5\n",
      "6\n",
      "7\n",
      "8\n",
      "9\n",
      "10\n",
      "10\n",
      "9\n",
      "8\n",
      "7\n",
      "6\n",
      "5\n",
      "4\n",
      "3\n",
      "2\n",
      "1\n",
      "0\n",
      "1\n",
      "2\n",
      "3\n",
      "0\n",
      "1\n",
      "2\n",
      "3\n",
      "5\n",
      "6\n",
      "7\n",
      "8\n",
      "9\n"
     ]
    }
   ],
   "source": [
    "#exemplo com while\n",
    "count = 1\n",
    "while count <= 5:\n",
    "    print(count)\n",
    "    count += 1\n",
    "    \n",
    "#range(0, 10, 1):\n",
    "#range(inicio, parada, incremento)\n",
    "#o python \"igonora\" o ultimo valor de intervalos\n",
    "#O incremento pode ser negativo\n",
    "\n",
    "#for normal\n",
    "for n in range(0, 10):\n",
    "    print(n+1)\n",
    "    \n",
    "for n in range(1, 11):\n",
    "    print(n)\n",
    "    \n",
    "    \n",
    "#for decrecente\n",
    "for n in range(10, 0,-1):\n",
    "    print(n)\n",
    "    \n",
    "#exemplo com break\n",
    "#vai parar no 3 pois o break está antes do print\n",
    "for n in range(0, 10):\n",
    "    if n==4:\n",
    "        break\n",
    "    print(n)\n",
    "    \n",
    "#exemplo com continue\n",
    "#vai pular o numero 4\n",
    "for n in range(0, 10):\n",
    "    if n==4:\n",
    "        continue\n",
    "    print(n)"
   ]
  },
  {
   "cell_type": "markdown",
   "id": "d7da5ff2",
   "metadata": {},
   "source": [
    "Estruturas de Dados - Listas/Tuplas/Dicionarios/Conjuntos"
   ]
  },
  {
   "cell_type": "code",
   "execution_count": 5,
   "id": "0510c42c",
   "metadata": {},
   "outputs": [
    {
     "name": "stdout",
     "output_type": "stream",
     "text": [
      "[1, 2, 3, 4, 5]\n",
      "[1, 2, 3, '4', True]\n",
      "[12, [1, 2, 3, 4, 5], 'a']\n",
      "[0, 1, 2, 3, 4, 5, 6, 7, 8, 9]\n",
      "5\n",
      "1\n",
      "[1, 2, 3, 4, 5]\n",
      "[4, 2, 3, 4, 5]\n",
      "1\n",
      "2\n",
      "3\n",
      "4\n",
      "5\n",
      "6\n",
      "7\n",
      "8\n",
      "9\n",
      "10\n"
     ]
    }
   ],
   "source": [
    "#formas de criar listas\n",
    "lst = [1,2,3,4,5]\n",
    "print(lst)\n",
    "\n",
    "#vários tipos\n",
    "lst2 = [1,2,3,\"4\",True]\n",
    "print(lst2)\n",
    "\n",
    "#lista com lista\n",
    "lst3 = [12,[1,2,3,4,5],\"a\"]\n",
    "print(lst3)\n",
    "\n",
    "#criando lista com range\n",
    "lst4 = list(range(0,10))\n",
    "print(lst4)\n",
    "\n",
    "#comprimento da lista\n",
    "print(len(lst))\n",
    "\n",
    "#acessando elemento\n",
    "print(lst[0])\n",
    "#posiçõo 1 é uma lista\n",
    "print(lst3[1])\n",
    "#alterando posição\n",
    "lst[0] = 4\n",
    "print(lst)\n",
    "\n",
    "#percorrendo lista\n",
    "for n in range(0, len(lst4)):\n",
    "    print(lst4[n]+1)"
   ]
  },
  {
   "cell_type": "code",
   "execution_count": 6,
   "id": "d025bb50",
   "metadata": {},
   "outputs": [
    {
     "name": "stdout",
     "output_type": "stream",
     "text": [
      "{'João': 6.0, 'Maria': 8.0, 'Pedro': 6.5}\n",
      "6.0\n",
      "True\n",
      "False\n",
      "{'Maria': 8.0, 'Pedro': 6.5}\n",
      "{'Maria': 8.0, 'Pedro': 6.5, 'Ana': 9}\n",
      "{'Hive', 'Spark', 'Sqoop'}\n",
      "True\n",
      "4\n",
      "<class 'dict'>\n",
      "<class 'set'>\n",
      "<class 'tuple'>\n"
     ]
    }
   ],
   "source": [
    "#dicionários: estrutura chave/valor\n",
    "Notas = {'João': 6.0, 'Maria': 8.0, 'Pedro': 6.5}\n",
    "print(Notas)\n",
    "\n",
    "print(Notas['João'])\n",
    "\n",
    "#Todasd as chaves\n",
    "Notas.keys()\n",
    "\n",
    "#todos os valores\n",
    "Notas.values()\n",
    "\n",
    "#Testa logicamente a existência\n",
    "print('João' in Notas)\n",
    "print('Fernando' in Notas)\n",
    "\n",
    "#apaga um elemento\n",
    "del Notas['João']\n",
    "print(Notas)\n",
    "\n",
    "#inclui um elemento\n",
    "Notas['Ana'] = 9\n",
    "print(Notas)\n",
    "\n",
    "#busca um valor, se não encontrar mostra segundo parametro\n",
    "Notas.get('Geraldo',\"Não encontrado!\")\n",
    "\n",
    "#sets são conjuntos não ordenados de elementos não repetidos\n",
    "bigdata = {'Spark', 'Hive', \"Sqoop\"}\n",
    "print(bigdata)\n",
    "\n",
    "#verifica existência\n",
    "print('Spark' in bigdata)\n",
    "\n",
    "#adiciona elemento\n",
    "bigdata.add('Hadoop')\n",
    "bigdata\n",
    "\n",
    "#número de elementos\n",
    "print(len(bigdata))\n",
    "\n",
    "bigdata.add(\"Spark\")\n",
    "bigdata\n",
    "\n",
    "#tuplas são listas que não podem ser alteradas\n",
    "#listas usam [], tuplas usam ()\n",
    "tupla = (1,2,3,4,5,6,7)\n",
    "tupla\n",
    "\n",
    "tupla[4]\n",
    "\n",
    "#dicionários em que cada posição recebe uma tupla\n",
    "dic2 = {(0, 1): 0, (1, 2): 1, (2, 3): 2, (3, 4): 3, (4, 5): 4,(5, 6): 5, (6, 7): 6, (7, 8): 7, (8, 9): 8, (9, 10): 9}\n",
    "dic2\n",
    "\n",
    "print(type(Notas))\n",
    "print(type(bigdata))\n",
    "print(type(tupla))"
   ]
  },
  {
   "cell_type": "markdown",
   "id": "2b7b86a2",
   "metadata": {},
   "source": [
    "Funções e Funções Padrão"
   ]
  },
  {
   "cell_type": "code",
   "execution_count": 7,
   "id": "3bcd1499",
   "metadata": {},
   "outputs": [
    {
     "name": "stdout",
     "output_type": "stream",
     "text": [
      "esta é uma função\n",
      "Impressão deste texto\n",
      "9\n",
      "1\n",
      "2\n",
      "3\n",
      "4\n",
      "5\n",
      "6\n",
      "7\n",
      "8\n",
      "9\n",
      "10\n",
      "1\n",
      "2\n",
      "3\n",
      "4\n",
      "5\n",
      "6\n",
      "7\n",
      "8\n",
      "9\n",
      "10\n"
     ]
    }
   ],
   "source": [
    "def imprime():\n",
    "    print(\"esta é uma função\")\n",
    "\n",
    "imprime()\n",
    "\n",
    "#com parametro\n",
    "def imprime(n):\n",
    "    print(n)\n",
    "\n",
    "imprime(\"Impressão deste texto\")\n",
    "\n",
    "#com retorno\n",
    "def potencia(n):\n",
    "    return n * n\n",
    "\n",
    "x = potencia(3)\n",
    "print(x)\n",
    "\n",
    "#com valor default\n",
    "def intervalo(inic=1,fim=10):\n",
    "    for n in range(inic, fim+1):\n",
    "        print(n)\n",
    "\n",
    "x = intervalo(1,10)\n",
    "y = intervalo()"
   ]
  },
  {
   "cell_type": "code",
   "execution_count": 8,
   "id": "5c3c9953",
   "metadata": {
    "scrolled": false
   },
   "outputs": [
    {
     "name": "stdout",
     "output_type": "stream",
     "text": [
      "200\n",
      "Maior valor:  45\n",
      "Menor valor:  1\n",
      "Soma:  108\n",
      "Arredondamento:  2.35\n",
      "Média:  21.6\n",
      "Mediana:  30\n",
      "Moda:  30\n",
      "Desvio padrão:  19.346834366376324\n",
      "Variância:  374.3\n",
      "<class 'numpy.ndarray'>\n",
      "[[0.26753534 0.8088493  0.51178154 0.05015808 0.15973235 0.1056769\n",
      "  0.57640348 0.09724776]\n",
      " [0.58379801 0.23608091 0.42217509 0.68116636 0.01525028 0.3552819\n",
      "  0.80795657 0.80832246]\n",
      " [0.51816531 0.27760362 0.93284834 0.41291015 0.68963568 0.01259781\n",
      "  0.89896167 0.21738018]\n",
      " [0.21199623 0.28633126 0.19239872 0.61716776 0.28293075 0.56366958\n",
      "  0.21269468 0.60934443]\n",
      " [0.80140323 0.916318   0.09181295 0.79475172 0.66984638 0.27235735\n",
      "  0.45912278 0.70068013]\n",
      " [0.71334803 0.42936104 0.60431325 0.8115246  0.76947947 0.68229687\n",
      "  0.29671856 0.85020799]\n",
      " [0.67289872 0.45399324 0.46352499 0.90721416 0.63955013 0.73627744\n",
      "  0.05209694 0.50525411]\n",
      " [0.72880896 0.92191046 0.57300255 0.09833804 0.8507201  0.44533961\n",
      "  0.34554833 0.42460386]]\n"
     ]
    }
   ],
   "source": [
    "#funções internas\n",
    "print(abs(-200))\n",
    "lst = [1,2,30,30,45]\n",
    "print(\"Maior valor: \", max(lst))\n",
    "print(\"Menor valor: \", min(lst))\n",
    "print(\"Soma: \", sum(lst))\n",
    "print(\"Arredondamento: \", round(2.34567,2))\n",
    "\n",
    "#statistica\n",
    "from statistics import *\n",
    "print(\"Média: \", mean(lst))\n",
    "print(\"Mediana: \", median(lst))\n",
    "print(\"Moda: \", mode(lst))\n",
    "\n",
    "#desvio padrão da amostra\n",
    "print(\"Desvio padrão: \", stdev(lst))\n",
    "\n",
    "#variancia da amostra\n",
    "print(\"Variância: \", variance(lst))\n",
    "\n",
    "from numpy import *\n",
    "a = random.random((8,8))\n",
    "print(type(a))\n",
    "print(a)"
   ]
  },
  {
   "cell_type": "markdown",
   "id": "00ef7896",
   "metadata": {},
   "source": [
    "Numpy - Usado para operações matematicas e dados multidimencionais \n",
    "\n",
    "Tipos de dados"
   ]
  },
  {
   "cell_type": "code",
   "execution_count": 15,
   "id": "4a742508",
   "metadata": {},
   "outputs": [
    {
     "name": "stdout",
     "output_type": "stream",
     "text": [
      "True <class 'numpy.bool_'>\n",
      "b'Este e um texto' <class 'numpy.bytes_'>\n",
      "Este é um texto <class 'numpy.str_'>\n"
     ]
    }
   ],
   "source": [
    "import numpy as np  # Importando o numpy\n",
    "boolean = np.bool_(True)  # Criando uma classe boleana\n",
    "print(boolean, type(boolean))  # Imprimindo seu tipo\n",
    "\n",
    "texto = np.string_('Este e um texto') # Informando que o tipo é texto, porem ele é do tipo byte caracteres do tipo ascii sendo eles 8 bits\n",
    "print(texto, type(texto))  # Imprimindo seu tipo\n",
    "\n",
    "texto = np.unicode_('Este é um texto') # Informando que agora o tipo é unicode que se asemelha ao tipo str\n",
    "print(texto, type(texto))  # Imprimindo seu tipo"
   ]
  },
  {
   "cell_type": "code",
   "execution_count": 10,
   "id": "906d0eae",
   "metadata": {},
   "outputs": [
    {
     "name": "stdout",
     "output_type": "stream",
     "text": [
      "-102 <class 'numpy.intc'>\n",
      "102 <class 'numpy.uintc'>\n",
      "102120102 <class 'numpy.int32'>\n",
      "102 <class 'numpy.uint32'>\n",
      "12051.84 <class 'numpy.float64'>\n",
      "12051.84 <class 'numpy.float32'>\n"
     ]
    }
   ],
   "source": [
    "inteiro = np.intc(-102)  # Valor inteiro que ocupa 32 bits e pode ser negativo (receber o sinal -)\n",
    "uinteiro = np.uintc(102) # Valor inteiro que ocupa 32 bits nao pode ser negativo (sem sinal)\n",
    "long = np.int_(102120102)  # Valor inteiro que ocupa 64 bits e pode ser negativo (receber o sinal -)\n",
    "ulong = np.uint(102) # Valor inteiro que ocupa 64 bits nao pode ser negativo (sem sinal)\n",
    "\n",
    "print(inteiro, type(inteiro))\n",
    "print(uinteiro, type(uinteiro))\n",
    "print(long, type(long))\n",
    "print(ulong, type(ulong))\n",
    "\n",
    "ponto_flutuante = np.float_(12051.84) # Valor 64 bits\n",
    "ponto_flutuante2 = np.float32(12051.84) # Valor 32 bits\n",
    "\n",
    "print(ponto_flutuante, type(ponto_flutuante))\n",
    "print(ponto_flutuante2, type(ponto_flutuante2))"
   ]
  },
  {
   "cell_type": "code",
   "execution_count": 11,
   "id": "9f2d1cf9",
   "metadata": {},
   "outputs": [
    {
     "name": "stdout",
     "output_type": "stream",
     "text": [
      "[1 2 3 4 5 6 7 8 9 0]\n",
      "<class 'numpy.ndarray'>\n",
      "int32\n",
      "[1 2 3 4 5 6 7 8 9 0]\n",
      "<class 'numpy.ndarray'>\n",
      "int8\n"
     ]
    }
   ],
   "source": [
    "# Outras formas de declarar tipos\n",
    "array = np.array([1,2,3,4,5,6,7,8,9,0]) # Criando um array\n",
    "print(array) \n",
    "print(type(array))\n",
    "print(array.dtype)\n",
    "\n",
    "# Alterando os valores do array\n",
    "array = np.array([1,2,3,4,5,6,7,8,9,0], dtype= np.int8) # Passando tipo do dados\n",
    "print(array) \n",
    "print(type(array))\n",
    "print(array.dtype)"
   ]
  },
  {
   "cell_type": "code",
   "execution_count": 12,
   "id": "106030fd",
   "metadata": {},
   "outputs": [
    {
     "name": "stdout",
     "output_type": "stream",
     "text": [
      "[<__main__.Pessoa object at 0x0000020F67EC8460>\n",
      " <__main__.Pessoa object at 0x0000020F67EC85B0>]\n",
      "<class 'numpy.ndarray'>\n",
      "object\n",
      "\n",
      "Wendell 31\n"
     ]
    }
   ],
   "source": [
    "# Usando POO para criar novos tipos\n",
    "class Pessoa:\n",
    "    def __init__(self, nome, idade):\n",
    "        self.nome = nome\n",
    "        self.idade = idade\n",
    "\n",
    "        \n",
    "        \n",
    "array = np.array([Pessoa(\"Wendell\", 30), Pessoa('Lidia', 31)])\n",
    "print(array)\n",
    "print(type(array))\n",
    "print(array.dtype, end='\\n\\n')\n",
    "\n",
    "print(array[0].nome, array[1].idade)"
   ]
  },
  {
   "cell_type": "markdown",
   "id": "6d12a31e",
   "metadata": {},
   "source": [
    "Propriedades de Arrays"
   ]
  },
  {
   "cell_type": "code",
   "execution_count": 13,
   "id": "0f393bf7",
   "metadata": {},
   "outputs": [
    {
     "name": "stdout",
     "output_type": "stream",
     "text": [
      "[1 2 3 4 5 6 7 8 9 0]\n",
      "1\n",
      "10\n",
      "10\n",
      "(10,)\n",
      "int32\n",
      "4\n",
      "40\n"
     ]
    }
   ],
   "source": [
    "array = np.array([1,2,3,4,5,6,7,8,9,0])\n",
    "print(array)  # Array\n",
    "print(array.ndim)  # Numeros de dimensões do array\n",
    "print(array.size)  # Tamanho do array\n",
    "print(len(array))  # Quantidade de indices do array\n",
    "print(array.shape)  # Tamanho de linhas do array\n",
    "print(array.dtype)  # tipo de dados do array\n",
    "print(array.itemsize)  # tamanho de bits do array\n",
    "print(array.nbytes)  # Numeros de bytes do array"
   ]
  },
  {
   "cell_type": "code",
   "execution_count": 14,
   "id": "a0390508",
   "metadata": {},
   "outputs": [
    {
     "name": "stdout",
     "output_type": "stream",
     "text": [
      "[[1 2 3]\n",
      " [4 5 6]\n",
      " [7 8 9]]\n",
      "2\n",
      "9\n",
      "3\n",
      "(3, 3)\n",
      "int32\n",
      "4\n",
      "36\n"
     ]
    }
   ],
   "source": [
    "array = np.array([[1,2,3],[4,5,6],[7,8,9]])\n",
    "print(array)  # Array\n",
    "print(array.ndim)  # Numeros de dimensões do array\n",
    "print(array.size)  # Tamanho do array\n",
    "print(len(array))  # Quantidade de indices do array\n",
    "print(array.shape)  # Tamanho de linhas do array\n",
    "print(array.dtype)  # tipo de dados do array\n",
    "print(array.itemsize)  # tamanho de bits do array\n",
    "print(array.nbytes)  # Numeros de bytes do array"
   ]
  },
  {
   "cell_type": "code",
   "execution_count": 15,
   "id": "00929151",
   "metadata": {},
   "outputs": [
    {
     "name": "stdout",
     "output_type": "stream",
     "text": [
      "[0. 0. 0. 0. 0. 0. 0. 0. 0.]\n",
      "\n",
      "[1.]\n",
      "\n",
      "[0. 0. 0. 0. 0. 0.]\n",
      "\n",
      "[[1. 0. 0. 0.]\n",
      " [0. 1. 0. 0.]\n",
      " [0. 0. 1. 0.]\n",
      " [0. 0. 0. 1.]]\n",
      "\n",
      "[ 2  4  6  8 10 12 14 16]\n",
      "\n",
      "[[0. 0. 0.]\n",
      " [0. 0. 0.]\n",
      " [0. 0. 0.]]\n",
      "\n",
      "[[1. 1. 1. 1.]\n",
      " [1. 1. 1. 1.]\n",
      " [1. 1. 1. 1.]\n",
      " [1. 1. 1. 1.]]\n",
      "\n",
      "[[10 10 10 10]\n",
      " [10 10 10 10]\n",
      " [10 10 10 10]\n",
      " [10 10 10 10]]\n",
      "\n",
      "[[0.9078404  0.11602931 0.54664641 0.5069077 ]\n",
      " [0.30265609 0.38321877 0.13060181 0.87156223]\n",
      " [0.80602623 0.03310689 0.95073977 0.81109073]\n",
      " [0.46424642 0.8059194  0.46920103 0.20131815]]\n",
      "\n",
      "[[2 3 9 3 5]\n",
      " [6 5 9 9 3]\n",
      " [9 8 3 2 8]\n",
      " [4 8 8 2 9]\n",
      " [2 4 4 7 3]]\n",
      "\n"
     ]
    }
   ],
   "source": [
    "array1 = np.zeros(9)  # Vetor com valores 0\n",
    "array2 = np.ones(1)  # Vetor com valores 1\n",
    "array3 = np.empty(6)  # Matriz com valores aleatorios\n",
    "array4 = np.identity(4)  # Matriz com valores 0 e 1 os valores 1 ficam na diagonal\n",
    "matriz1 = np.zeros((3,3))  # Matriz de bidimencional\n",
    "matriz2 = np.ones((4,4))  # Matriz de bidimencional\n",
    "array5 = np.arange(2,17,2)  # O arange segue o mesmo principio do range\n",
    "matriz3 = np.full((4,4), 10)  # Gerando uma matriz \n",
    "matriz4 = np.random.rand(4,4) # Matrix de numeros float\n",
    "matriz5 = np.random.randint(2,10, (5,5))  # Matriz de numero inteiros\n",
    "\n",
    "print(array1, end='\\n\\n')\n",
    "print(array2, end='\\n\\n')\n",
    "print(array3, end='\\n\\n')\n",
    "print(array4, end='\\n\\n')\n",
    "print(array5, end='\\n\\n')\n",
    "print(matriz1, end='\\n\\n')\n",
    "print(matriz2, end='\\n\\n')\n",
    "print(matriz3, end='\\n\\n')\n",
    "print(matriz4, end='\\n\\n')\n",
    "print(matriz5, end='\\n\\n')"
   ]
  },
  {
   "cell_type": "markdown",
   "id": "957fdbaa",
   "metadata": {},
   "source": [
    "List Comprehension"
   ]
  },
  {
   "cell_type": "code",
   "execution_count": 16,
   "id": "0c87c024",
   "metadata": {},
   "outputs": [
    {
     "name": "stdout",
     "output_type": "stream",
     "text": [
      "[[0 1 2]\n",
      " [3 4 5]\n",
      " [6 7 8]]\n"
     ]
    }
   ],
   "source": [
    "# Criando uma matriz com list comprehension\n",
    "matriz = np.array([[x for x in range(0,3)],\n",
    "                  [x for x in range(3,6)],\n",
    "                  [x for x in range(6,9)]])\n",
    "print(matriz)"
   ]
  },
  {
   "cell_type": "markdown",
   "id": "b9683b80",
   "metadata": {},
   "source": [
    "Slicing"
   ]
  },
  {
   "cell_type": "code",
   "execution_count": 17,
   "id": "ae1b408f",
   "metadata": {},
   "outputs": [
    {
     "name": "stdout",
     "output_type": "stream",
     "text": [
      "[[ 1  2  3  4  5  6  7  8  9]\n",
      " [10 11 12 13 14 15 16 17 18]\n",
      " [19 20 21 22 23 24 25 26 27]]\n",
      "\n",
      "[10 12 14 16 18]\n",
      "[ 3 12 21]\n"
     ]
    }
   ],
   "source": [
    "# Retornando valores com slice *Reforçando o que ja estudei\n",
    "array = np.array([[1,2,3,4,5,6,7,8,9],\n",
    "                  [10,11,12,13,14,15,16,17,18],\n",
    "                  [19,20,21,22,23,24,25,26,27]])\n",
    "\n",
    "print(array, end='\\n\\n')\n",
    "print(array[1,::2]) # Retornando do indice 1 todos os valores com o step sendo 2\n",
    "print(array[:,2]) # Retornando todos os valores da coluna 2\n",
    "# [linhas : colunas] para retornar os valores seja linha ou coluna é somente trabalhar a partir dos pontos\n"
   ]
  },
  {
   "cell_type": "code",
   "execution_count": 22,
   "id": "04f24ab1",
   "metadata": {},
   "outputs": [
    {
     "name": "stdout",
     "output_type": "stream",
     "text": [
      "9\n",
      "4\n",
      "8\n",
      "6\n",
      "3\n",
      "9\n",
      "4\n",
      "8\n",
      "6\n",
      "3\n",
      "1\n",
      "2\n",
      "3\n",
      "4\n",
      "5\n",
      "[[9 4 8 6 3]\n",
      " [1 2 3 4 5]]\n",
      "9\n",
      "1\n",
      "4\n",
      "2\n",
      "8\n",
      "3\n",
      "6\n",
      "4\n",
      "3\n",
      "5\n"
     ]
    }
   ],
   "source": [
    "# Iterando arrays\n",
    "vetor = np.array([9,4,8,6,3])\n",
    "for i in vetor:\n",
    "    print(i)\n",
    "\n",
    "matriz = np.array([[9,4,8,6,3],[1,2,3,4,5]])\n",
    "for i in matriz:\n",
    "    for j in i:\n",
    "        print(j)\n",
    "        \n",
    "matriz = np.array([[9,4,8,6,3],[1,2,3,4,5]])\n",
    "print(matriz)\n",
    "\n",
    "# Usando uma função para percorre por coluna\n",
    "for x in np.nditer(matriz, order='F'):\n",
    "    print(x)"
   ]
  },
  {
   "cell_type": "markdown",
   "id": "18cace98",
   "metadata": {},
   "source": [
    "Alterando Dimensões"
   ]
  },
  {
   "cell_type": "code",
   "execution_count": 11,
   "id": "9004fed0",
   "metadata": {},
   "outputs": [
    {
     "name": "stdout",
     "output_type": "stream",
     "text": [
      "[[1 2 3]\n",
      " [4 5 6]\n",
      " [7 8 9]]\n",
      "[1 2 3 4 5 6 7 8 9]\n",
      "[ 0  1  2  3  4  5  6  7  8  9 10 11 12 13 14 15 16 17 18 19 20 21 22 23\n",
      " 24 25 26]\n",
      "[[ 0  1  2  3  4  5  6  7  8]\n",
      " [ 9 10 11 12 13 14 15 16 17]\n",
      " [18 19 20 21 22 23 24 25 26]]\n",
      "[[[ 0  1  2]\n",
      "  [ 3  4  5]\n",
      "  [ 6  7  8]]\n",
      "\n",
      " [[ 9 10 11]\n",
      "  [12 13 14]\n",
      "  [15 16 17]]\n",
      "\n",
      " [[18 19 20]\n",
      "  [21 22 23]\n",
      "  [24 25 26]]]\n"
     ]
    },
    {
     "data": {
      "text/plain": [
       "array([ 0,  1,  2,  3,  4,  5,  6,  7,  8,  9, 10, 11, 12, 13, 14, 15, 16,\n",
       "       17, 18, 19, 20, 21, 22, 23, 24, 25, 26])"
      ]
     },
     "execution_count": 11,
     "metadata": {},
     "output_type": "execute_result"
    }
   ],
   "source": [
    "import numpy as np\n",
    "array = np.array([[1,2,3],[4,5,6],[7,8,9]])\n",
    "print(array)\n",
    "\n",
    "# Usando a função reshape para alterar a dimensão\n",
    "array = array.reshape(9)\n",
    "print(array)  # Transformando uma matriz em um vetor\n",
    "\n",
    "# Transformando dimensões com reshape\n",
    "array2 = np.array([i for i in range(0,27)])\n",
    "print(array2)\n",
    "array2 = array2.reshape(3,9)\n",
    "print(array2)\n",
    "array2 = array2.reshape(3,3,3)\n",
    "print(array2)\n",
    "\n",
    "# Usando a função flatten() para retornar em um vetor \n",
    "array2 = array2.flatten()\n",
    "array2"
   ]
  },
  {
   "cell_type": "code",
   "execution_count": 13,
   "id": "a452bd67",
   "metadata": {},
   "outputs": [
    {
     "name": "stdout",
     "output_type": "stream",
     "text": [
      "[5 7 9]\n",
      "[-3 -3 -3]\n",
      "[ 4 10 18]\n",
      "[0.25 0.4  0.5 ]\n",
      "[  1  32 729]\n",
      "[0 0 0]\n",
      "[[5 7 9]\n",
      " [6 4 4]]\n"
     ]
    }
   ],
   "source": [
    "# Operações matematicas entre os arrays\n",
    "array1 = np.array([1,2,3])\n",
    "array2 = np.array([4,5,6])\n",
    "\n",
    "print(array1 + array2)\n",
    "print(array1 - array2)\n",
    "print(array1 * array2)\n",
    "print(array1 / array2)\n",
    "print(array1 ** array2)\n",
    "print(array1 // array2)\n",
    "\n",
    "# Broadcast \n",
    "array1 = np.array([1,2,3])\n",
    "array2 = np.array([[4,5,6],[5,2,1]])\n",
    "\n",
    "print(array1 + array2)"
   ]
  },
  {
   "cell_type": "code",
   "execution_count": 18,
   "id": "edff529c",
   "metadata": {},
   "outputs": [
    {
     "name": "stdout",
     "output_type": "stream",
     "text": [
      "[1 2 3 4 5 6]\n",
      "[[ 1  2  3]\n",
      " [ 7  8  9]\n",
      " [ 4  5  6]\n",
      " [10 11 12]]\n",
      "[[ 1  2  3  4  5  6]\n",
      " [ 7  8  9 10 11 12]]\n",
      "[[1 2 3]\n",
      " [4 5 6]]\n",
      "[1 2 3 4 5 6]\n"
     ]
    }
   ],
   "source": [
    "# Usando a função concatenate para concatenação\n",
    "array1 = np.array([1,2,3])\n",
    "array2 = np.array([4,5,6])\n",
    "array12 = np.concatenate((array1,array2), axis=0)\n",
    "print(array12)\n",
    "\n",
    "# Concatenando por linhas \n",
    "array1 = np.array([[1,2,3],[7,8,9]])\n",
    "array2 = np.array([[4,5,6],[10,11,12]])\n",
    "array12 = np.concatenate((array1,array2), axis=0)\n",
    "print(array12)\n",
    "\n",
    "# Concatenando por colunas\n",
    "array12 = np.concatenate((array1,array2), axis=1)\n",
    "print(array12)\n",
    "\n",
    "array1 = np.array([1,2,3])\n",
    "array2 = np.array([4,5,6])\n",
    "array12v = np.vstack((array1,array2))\n",
    "array12h = np.hstack((array1,array2))\n",
    "print(array12v)\n",
    "print(array12h)"
   ]
  },
  {
   "cell_type": "code",
   "execution_count": 22,
   "id": "2149fd87",
   "metadata": {},
   "outputs": [
    {
     "name": "stdout",
     "output_type": "stream",
     "text": [
      "[array([1, 2, 3]), array([4, 5, 6])]\n",
      "[array([1, 2]), array([3, 4]), array([5, 6])]\n"
     ]
    }
   ],
   "source": [
    "# Divisão de array com o metodo split\n",
    "array = np.array([1,2,3,4,5,6])\n",
    "print(np.split(array,2))\n",
    "print(np.split(array,3))"
   ]
  },
  {
   "cell_type": "code",
   "execution_count": 25,
   "id": "53e16f17",
   "metadata": {},
   "outputs": [
    {
     "name": "stdout",
     "output_type": "stream",
     "text": [
      "(array([4], dtype=int64),)\n",
      "(array([0, 4, 5], dtype=int64),)\n",
      "[1 1 1 1 1]\n"
     ]
    }
   ],
   "source": [
    "# Filtrando elementos com where\n",
    "array_find = np.where(array >= 4)\n",
    "print(array_find)\n",
    "\n",
    "array = np.array([1,-1,-3,0,6,3,-78])\n",
    "array_find = np.where( (array > 0) & (array <= 10) )\n",
    "print(array_find)\n",
    "\n",
    "# Usando a função filter para retornar o valor da condição\n",
    "array = np.array([1,0,1,1,0,0,0,1,1,0])\n",
    "filter = array == 1\n",
    "filter_array = array[filter]\n",
    "print(filter_array)"
   ]
  },
  {
   "cell_type": "code",
   "execution_count": 27,
   "id": "518465ea",
   "metadata": {},
   "outputs": [
    {
     "name": "stdout",
     "output_type": "stream",
     "text": [
      "[ 1  2  2  3  3  4  5  6  8  9 96]\n"
     ]
    }
   ],
   "source": [
    "# Ordenação\n",
    "array = np.array([2,5,4,1,3,96,8,9,6,2,3])\n",
    "print(np.sort(array, kind='quicksort'))"
   ]
  },
  {
   "cell_type": "code",
   "execution_count": 38,
   "id": "4e5eaefc",
   "metadata": {},
   "outputs": [
    {
     "name": "stdout",
     "output_type": "stream",
     "text": [
      "[[  3   7   9  12 102  10  12]\n",
      " [ 17   5  14  12   6   9  12]]\n",
      "[[ 1  1 -7 -6 90  6  6]\n",
      " [-1 -3  4  0  2  7  6]]\n",
      "[[  2  12   8  27 576  16  27]\n",
      " [ 72   4  45  36   8   8  27]]\n",
      "[[ 2.          1.33333333  0.125       0.33333333 16.          4.\n",
      "   3.        ]\n",
      " [ 0.88888889  0.25        1.8         1.          2.          8.\n",
      "   3.        ]]\n",
      "[[         2         64          1      19683 1073741824         64\n",
      "         729]\n",
      " [ 134217728          1      59049      46656         16          8\n",
      "         729]]\n",
      "[[ 2  1  0  0 16  4  3]\n",
      " [ 0  0  1  1  2  8  3]]\n",
      "(array([[ 2,  1,  0,  0, 16,  4,  3],\n",
      "       [ 0,  0,  1,  1,  2,  8,  3]]), array([[0, 1, 1, 3, 0, 0, 0],\n",
      "       [8, 1, 4, 0, 0, 0, 0]]))\n",
      "[[1.41421356 2.         1.         1.73205081 9.79795897 2.82842712\n",
      "  3.        ]\n",
      " [2.82842712 1.         3.         2.44948974 2.         2.82842712\n",
      "  3.        ]]\n",
      "[[ 2  4  1  3 96  8  9]\n",
      " [ 8  1  9  6  4  8  9]]\n"
     ]
    }
   ],
   "source": [
    "# Operações Aritméticas com funções\n",
    "arr1 = np.array([[2,4,1,3,96,8,9],[8,1,9,6,4,8,9]])\n",
    "arr2 = np.array([[1,3,8,9,6,2,3],[9,4,5,6,2,1,3]])\n",
    "\n",
    "print(np.add(arr1, arr2))  # Soma\n",
    "print(np.subtract(arr1, arr2))  # Subtração\n",
    "print(np.multiply(arr1, arr2))  # Multiplicação\n",
    "print(np.divide(arr1, arr2))  # Divisão\n",
    "print(np.power(arr1, arr2))  # Ponteciação\n",
    "print(np.floor_divide(arr1, arr2))  # Divisão inteiro\n",
    "print(np.divmod(arr1, arr2))  # Resto da divisão\n",
    "print(np.sqrt(arr1))  # Raiz quadrada\n",
    "print(np.around(arr1,2))  # Arredondar com 2 casas decimais\n",
    "print(np.floor(arr1,2))  # Arredondar para cima\n",
    "print(np.ceil(arr1,2))  # Arredondar para cima"
   ]
  },
  {
   "cell_type": "code",
   "execution_count": 45,
   "id": "ed224488",
   "metadata": {},
   "outputs": [
    {
     "name": "stdout",
     "output_type": "stream",
     "text": [
      "168\n",
      "[123  45]\n",
      "[  2   6   7  10 106 114 123 131 132 141 147 151 159 168]\n",
      "[          2           8           8          24        2304       18432\n",
      "      165888     1327104     1327104    11943936    71663616   286654464\n",
      " -2001731584  -835715072]\n",
      "1\n",
      "96\n",
      "[[ 2  4  1  3 96  8  9]\n",
      " [ 8  1  9  6  4  8  9]]\n"
     ]
    }
   ],
   "source": [
    "# Acumuladores\n",
    "print(np.sum(arr1))  # Soma acumulada de todos os valores\n",
    "print(np.sum(arr1, axis=1))  # Soma acumulada de todos os valores por coluna\n",
    "print(np.cumsum(arr1))  # Soma acumulada por valores\n",
    "print(np.cumprod(arr1))  # Multiplicação acumulada por valores\n",
    "print(np.min(arr1))  # Menor valor\n",
    "print(np.max(arr1))  # Maior valor\n",
    "print(np.abs(arr1))  # Valor absoluto positivo"
   ]
  },
  {
   "cell_type": "code",
   "execution_count": 105,
   "id": "8d887e7a",
   "metadata": {},
   "outputs": [
    {
     "name": "stdout",
     "output_type": "stream",
     "text": [
      "[0 1 2 3 4 5 6 7 8 9]\n",
      "[0 1 2 3 4 5 6 7 8 9]\n",
      "[[0 1 2]\n",
      " [3 4 5]\n",
      " [6 7 8]]\n",
      "1 20\n",
      "[[18 10  8]\n",
      " [15 18 10]\n",
      " [ 8  6  5]]\n",
      "[ 27 100  70]\n",
      "[ 0  2  4  6  8 10 12 14 16 18 20 22 24 26 28 30 32 34 36 38 40 42 44 46\n",
      " 48 50 52 54 56 58 60 62 64 66 68 70 72 74 76 78 80 82 84 86 88 90 92 94\n",
      " 96 98]\n",
      "[[41 61 86 99 29 54]\n",
      " [82 16 21 97 60 45]\n",
      " [79 63 91 44 90 98]\n",
      " [57 88 92 23 10  1]\n",
      " [20 99 86  3 67 61]\n",
      " [56 45 51 26 71  3]]\n",
      "[6 4 9 3 2 7]\n",
      "5\n",
      "True\n"
     ]
    }
   ],
   "source": [
    "# Respostas dos exercicios do modulo\n",
    "ex1 = np.array(range(0,10))\n",
    "print(ex1)\n",
    "ex2 = np.array([i for i in range(0,10)])\n",
    "print(ex2)\n",
    "ex3 = np.array(range(0,9))\n",
    "print(ex3.reshape(3,3))\n",
    "ex6 = np.array([[1,2,3,4,5,6,7,8,9,10],[11,12,13,14,15,16,17,18,19,20]])\n",
    "print(ex6[0][0],ex6[1][-1])\n",
    "ex7 = np.random.randint(5,20, (3,3))\n",
    "print(ex7)\n",
    "ex8 = np.random.randint(1,50, (3,3))\n",
    "print(sum(ex8))\n",
    "ex9 = np.array([i for i in range(0,100,2)])\n",
    "print(ex9)\n",
    "ex10 = np.random.randint(1,100, (4,9))\n",
    "print(ex10.reshape(6,6))\n",
    "\n",
    "def ex11(ar1,ar2,ar3):\n",
    "    array_conc = np.concatenate((ar1,ar2,ar3), axis=0)\n",
    "    return array_conc\n",
    "\n",
    "ar1 = np.array([np.random.randint(20, size=10)])\n",
    "ar2 = np.array([np.random.randint(30, size=10)])\n",
    "ar3 = np.array([np.random.randint(40, size=10)])\n",
    "ex11(ar1, ar2, ar3)\n",
    "\n",
    "ex12 = np.array([6,-4,9,3,-2,-7])\n",
    "print(np.abs(ex12))\n",
    "\n",
    "ex13 = np.array([6,-8,9,-3,3,8,9])\n",
    "def pos_ex13(arr):\n",
    "    return len(np.where(arr > 0)[0])\n",
    "print(pos_ex13(ex13))\n",
    "\n",
    "def ex15(arr):\n",
    "    return np.any(arr)\n",
    "print(ex15(ex13))"
   ]
  },
  {
   "cell_type": "markdown",
   "id": "738e5c9a",
   "metadata": {},
   "source": [
    "Pandas - é uma biblioteca criada para a linguagem Python para manipulação e análise de dados. "
   ]
  },
  {
   "cell_type": "code",
   "execution_count": 7,
   "id": "edf4f2cc",
   "metadata": {},
   "outputs": [
    {
     "data": {
      "text/plain": [
       "Um        1\n",
       "Dois      2\n",
       "Três      3\n",
       "Quatro    4\n",
       "Cinco     5\n",
       "Name: Meus dados, dtype: int32"
      ]
     },
     "execution_count": 7,
     "metadata": {},
     "output_type": "execute_result"
    }
   ],
   "source": [
    "# Importando o pandas\n",
    "import pandas as pd\n",
    "\n",
    "# Criando uma Serie com os dados, tipo do dado, nome do df e o nome de cada indice\n",
    "minha_serie = pd.Series([1,2,3,4,5], dtype='i4', name='Meus dados', index=['Um', 'Dois', 'Três', 'Quatro', 'Cinco'])\n",
    "minha_serie"
   ]
  },
  {
   "cell_type": "code",
   "execution_count": 14,
   "id": "dce62e97",
   "metadata": {},
   "outputs": [
    {
     "data": {
      "text/html": [
       "<div>\n",
       "<style scoped>\n",
       "    .dataframe tbody tr th:only-of-type {\n",
       "        vertical-align: middle;\n",
       "    }\n",
       "\n",
       "    .dataframe tbody tr th {\n",
       "        vertical-align: top;\n",
       "    }\n",
       "\n",
       "    .dataframe thead th {\n",
       "        text-align: right;\n",
       "    }\n",
       "</style>\n",
       "<table border=\"1\" class=\"dataframe\">\n",
       "  <thead>\n",
       "    <tr style=\"text-align: right;\">\n",
       "      <th></th>\n",
       "      <th>0</th>\n",
       "    </tr>\n",
       "  </thead>\n",
       "  <tbody>\n",
       "    <tr>\n",
       "      <th>0</th>\n",
       "      <td>Roger</td>\n",
       "    </tr>\n",
       "    <tr>\n",
       "      <th>1</th>\n",
       "      <td>Lucas</td>\n",
       "    </tr>\n",
       "    <tr>\n",
       "      <th>2</th>\n",
       "      <td>Cristiano</td>\n",
       "    </tr>\n",
       "    <tr>\n",
       "      <th>3</th>\n",
       "      <td>Maria</td>\n",
       "    </tr>\n",
       "  </tbody>\n",
       "</table>\n",
       "</div>"
      ],
      "text/plain": [
       "           0\n",
       "0      Roger\n",
       "1      Lucas\n",
       "2  Cristiano\n",
       "3      Maria"
      ]
     },
     "execution_count": 14,
     "metadata": {},
     "output_type": "execute_result"
    }
   ],
   "source": [
    "# Criando DataFrame\n",
    "nomes = ['Roger','Lucas','Cristiano','Maria']\n",
    "df = pd.DataFrame(nomes)\n",
    "df"
   ]
  },
  {
   "cell_type": "code",
   "execution_count": 30,
   "id": "cd46df22",
   "metadata": {},
   "outputs": [
    {
     "data": {
      "text/html": [
       "<div>\n",
       "<style scoped>\n",
       "    .dataframe tbody tr th:only-of-type {\n",
       "        vertical-align: middle;\n",
       "    }\n",
       "\n",
       "    .dataframe tbody tr th {\n",
       "        vertical-align: top;\n",
       "    }\n",
       "\n",
       "    .dataframe thead th {\n",
       "        text-align: right;\n",
       "    }\n",
       "</style>\n",
       "<table border=\"1\" class=\"dataframe\">\n",
       "  <thead>\n",
       "    <tr style=\"text-align: right;\">\n",
       "      <th></th>\n",
       "      <th>Nome</th>\n",
       "      <th>Idade</th>\n",
       "      <th>A</th>\n",
       "      <th>B</th>\n",
       "      <th>C</th>\n",
       "      <th>D</th>\n",
       "    </tr>\n",
       "  </thead>\n",
       "  <tbody>\n",
       "    <tr>\n",
       "      <th>0</th>\n",
       "      <td>Miguel</td>\n",
       "      <td>54</td>\n",
       "      <td>196</td>\n",
       "      <td>349</td>\n",
       "      <td>73</td>\n",
       "      <td>148</td>\n",
       "    </tr>\n",
       "    <tr>\n",
       "      <th>1</th>\n",
       "      <td>Arthur</td>\n",
       "      <td>72</td>\n",
       "      <td>250</td>\n",
       "      <td>200</td>\n",
       "      <td>433</td>\n",
       "      <td>209</td>\n",
       "    </tr>\n",
       "    <tr>\n",
       "      <th>2</th>\n",
       "      <td>Théo</td>\n",
       "      <td>75</td>\n",
       "      <td>303</td>\n",
       "      <td>131</td>\n",
       "      <td>468</td>\n",
       "      <td>243</td>\n",
       "    </tr>\n",
       "    <tr>\n",
       "      <th>3</th>\n",
       "      <td>Heitor</td>\n",
       "      <td>66</td>\n",
       "      <td>225</td>\n",
       "      <td>202</td>\n",
       "      <td>151</td>\n",
       "      <td>59</td>\n",
       "    </tr>\n",
       "    <tr>\n",
       "      <th>4</th>\n",
       "      <td>Gael</td>\n",
       "      <td>57</td>\n",
       "      <td>44</td>\n",
       "      <td>198</td>\n",
       "      <td>297</td>\n",
       "      <td>361</td>\n",
       "    </tr>\n",
       "    <tr>\n",
       "      <th>5</th>\n",
       "      <td>Davi</td>\n",
       "      <td>70</td>\n",
       "      <td>19</td>\n",
       "      <td>157</td>\n",
       "      <td>102</td>\n",
       "      <td>435</td>\n",
       "    </tr>\n",
       "    <tr>\n",
       "      <th>6</th>\n",
       "      <td>Bernardo</td>\n",
       "      <td>37</td>\n",
       "      <td>35</td>\n",
       "      <td>404</td>\n",
       "      <td>496</td>\n",
       "      <td>108</td>\n",
       "    </tr>\n",
       "    <tr>\n",
       "      <th>7</th>\n",
       "      <td>Gabriel</td>\n",
       "      <td>60</td>\n",
       "      <td>235</td>\n",
       "      <td>355</td>\n",
       "      <td>196</td>\n",
       "      <td>320</td>\n",
       "    </tr>\n",
       "    <tr>\n",
       "      <th>8</th>\n",
       "      <td>Ravi</td>\n",
       "      <td>54</td>\n",
       "      <td>484</td>\n",
       "      <td>162</td>\n",
       "      <td>485</td>\n",
       "      <td>47</td>\n",
       "    </tr>\n",
       "    <tr>\n",
       "      <th>9</th>\n",
       "      <td>Noah</td>\n",
       "      <td>61</td>\n",
       "      <td>174</td>\n",
       "      <td>12</td>\n",
       "      <td>442</td>\n",
       "      <td>447</td>\n",
       "    </tr>\n",
       "  </tbody>\n",
       "</table>\n",
       "</div>"
      ],
      "text/plain": [
       "       Nome  Idade    A    B    C    D\n",
       "0    Miguel     54  196  349   73  148\n",
       "1    Arthur     72  250  200  433  209\n",
       "2      Théo     75  303  131  468  243\n",
       "3    Heitor     66  225  202  151   59\n",
       "4      Gael     57   44  198  297  361\n",
       "5      Davi     70   19  157  102  435\n",
       "6  Bernardo     37   35  404  496  108\n",
       "7   Gabriel     60  235  355  196  320\n",
       "8      Ravi     54  484  162  485   47\n",
       "9      Noah     61  174   12  442  447"
      ]
     },
     "execution_count": 30,
     "metadata": {},
     "output_type": "execute_result"
    }
   ],
   "source": [
    "num = {'Nome':['Miguel','Arthur','Théo','Heitor','Gael','Davi','Bernardo','Gabriel','Ravi','Noah'],\n",
    "       'Idade':[54, 72, 75, 66, 57, 70, 37, 60, 54, 61],\n",
    "       'A':[196, 250, 303, 225, 44, 19, 35, 235, 484, 174],\n",
    "       'B':[349, 200, 131, 202, 198, 157, 404, 355, 162, 12],\n",
    "       'C':[73, 433, 468, 151, 297, 102, 496, 196, 485, 442],\n",
    "       'D':[148, 209, 243, 59, 361, 435, 108, 320, 47, 447]}\n",
    "\n",
    "df = pd.DataFrame(num)\n",
    "df"
   ]
  },
  {
   "cell_type": "code",
   "execution_count": 31,
   "id": "5c35b088",
   "metadata": {},
   "outputs": [
    {
     "data": {
      "text/html": [
       "<div>\n",
       "<style scoped>\n",
       "    .dataframe tbody tr th:only-of-type {\n",
       "        vertical-align: middle;\n",
       "    }\n",
       "\n",
       "    .dataframe tbody tr th {\n",
       "        vertical-align: top;\n",
       "    }\n",
       "\n",
       "    .dataframe thead th {\n",
       "        text-align: right;\n",
       "    }\n",
       "</style>\n",
       "<table border=\"1\" class=\"dataframe\">\n",
       "  <thead>\n",
       "    <tr style=\"text-align: right;\">\n",
       "      <th></th>\n",
       "      <th>Nome</th>\n",
       "      <th>Idade</th>\n",
       "      <th>Profissão</th>\n",
       "      <th>Altura</th>\n",
       "    </tr>\n",
       "  </thead>\n",
       "  <tbody>\n",
       "    <tr>\n",
       "      <th>0</th>\n",
       "      <td>Roger</td>\n",
       "      <td>45</td>\n",
       "      <td>Arquiteto</td>\n",
       "      <td>1.80</td>\n",
       "    </tr>\n",
       "    <tr>\n",
       "      <th>1</th>\n",
       "      <td>Cristiano</td>\n",
       "      <td>34</td>\n",
       "      <td>Programador</td>\n",
       "      <td>1.73</td>\n",
       "    </tr>\n",
       "    <tr>\n",
       "      <th>2</th>\n",
       "      <td>Diego</td>\n",
       "      <td>56</td>\n",
       "      <td>Médico</td>\n",
       "      <td>1.78</td>\n",
       "    </tr>\n",
       "    <tr>\n",
       "      <th>3</th>\n",
       "      <td>Jeferson</td>\n",
       "      <td>71</td>\n",
       "      <td>Aposentado</td>\n",
       "      <td>1.77</td>\n",
       "    </tr>\n",
       "    <tr>\n",
       "      <th>4</th>\n",
       "      <td>José</td>\n",
       "      <td>46</td>\n",
       "      <td>Desempregado</td>\n",
       "      <td>1.71</td>\n",
       "    </tr>\n",
       "    <tr>\n",
       "      <th>5</th>\n",
       "      <td>Maria</td>\n",
       "      <td>31</td>\n",
       "      <td>Enfermeira</td>\n",
       "      <td>1.69</td>\n",
       "    </tr>\n",
       "  </tbody>\n",
       "</table>\n",
       "</div>"
      ],
      "text/plain": [
       "        Nome  Idade     Profissão  Altura\n",
       "0      Roger     45     Arquiteto    1.80\n",
       "1  Cristiano     34   Programador    1.73\n",
       "2      Diego     56        Médico    1.78\n",
       "3   Jeferson     71    Aposentado    1.77\n",
       "4       José     46  Desempregado    1.71\n",
       "5      Maria     31    Enfermeira    1.69"
      ]
     },
     "execution_count": 31,
     "metadata": {},
     "output_type": "execute_result"
    }
   ],
   "source": [
    "# Carregando dados \n",
    "data = pd.read_csv('./dados/pessoas.csv')\n",
    "data"
   ]
  },
  {
   "cell_type": "code",
   "execution_count": 37,
   "id": "7a0c7a55",
   "metadata": {},
   "outputs": [
    {
     "data": {
      "text/html": [
       "<div>\n",
       "<style scoped>\n",
       "    .dataframe tbody tr th:only-of-type {\n",
       "        vertical-align: middle;\n",
       "    }\n",
       "\n",
       "    .dataframe tbody tr th {\n",
       "        vertical-align: top;\n",
       "    }\n",
       "\n",
       "    .dataframe thead th {\n",
       "        text-align: right;\n",
       "    }\n",
       "</style>\n",
       "<table border=\"1\" class=\"dataframe\">\n",
       "  <thead>\n",
       "    <tr style=\"text-align: right;\">\n",
       "      <th></th>\n",
       "      <th>Nome</th>\n",
       "      <th>Idade</th>\n",
       "      <th>Profissão</th>\n",
       "      <th>Altura</th>\n",
       "    </tr>\n",
       "  </thead>\n",
       "  <tbody>\n",
       "    <tr>\n",
       "      <th>0</th>\n",
       "      <td>Roger</td>\n",
       "      <td>45</td>\n",
       "      <td>Arquiteto</td>\n",
       "      <td>1.8</td>\n",
       "    </tr>\n",
       "  </tbody>\n",
       "</table>\n",
       "</div>"
      ],
      "text/plain": [
       "    Nome  Idade  Profissão  Altura\n",
       "0  Roger     45  Arquiteto     1.8"
      ]
     },
     "execution_count": 37,
     "metadata": {},
     "output_type": "execute_result"
    }
   ],
   "source": [
    "# Localizando valores dentro do dataframe\n",
    "data.loc[data['Nome'] == 'Roger']"
   ]
  },
  {
   "cell_type": "code",
   "execution_count": 39,
   "id": "e66f0372",
   "metadata": {},
   "outputs": [
    {
     "data": {
      "text/plain": [
       "(4, 6)"
      ]
     },
     "execution_count": 39,
     "metadata": {},
     "output_type": "execute_result"
    }
   ],
   "source": [
    "# Retornando quantidade de colunas e linhas\n",
    "len(data.columns), len(data.index)"
   ]
  },
  {
   "cell_type": "code",
   "execution_count": 40,
   "id": "8fccc44e",
   "metadata": {},
   "outputs": [
    {
     "data": {
      "text/plain": [
       "Index(['Nome', 'Idade', 'Profissão', 'Altura'], dtype='object')"
      ]
     },
     "execution_count": 40,
     "metadata": {},
     "output_type": "execute_result"
    }
   ],
   "source": [
    "# Retornando as colunas\n",
    "data.columns"
   ]
  },
  {
   "cell_type": "code",
   "execution_count": 41,
   "id": "9f791492",
   "metadata": {},
   "outputs": [
    {
     "data": {
      "text/plain": [
       "(6, 4)"
      ]
     },
     "execution_count": 41,
     "metadata": {},
     "output_type": "execute_result"
    }
   ],
   "source": [
    "# Verificando o tamanho do dataframe\n",
    "data.shape"
   ]
  },
  {
   "cell_type": "code",
   "execution_count": 42,
   "id": "430e1560",
   "metadata": {},
   "outputs": [
    {
     "name": "stdout",
     "output_type": "stream",
     "text": [
      "0 Roger 45 Arquiteto\n",
      "1 Cristiano 34 Programador\n",
      "2 Diego 56 Médico\n",
      "3 Jeferson 71 Aposentado\n",
      "4 José 46 Desempregado\n",
      "5 Maria 31 Enfermeira\n"
     ]
    }
   ],
   "source": [
    "# Percorrendo cada linha pela coluna\n",
    "for indice, linha in data.iterrows():\n",
    "    print(indice, linha[0], linha[1], linha[2])"
   ]
  },
  {
   "cell_type": "code",
   "execution_count": 63,
   "id": "359fb17b",
   "metadata": {
    "scrolled": true
   },
   "outputs": [
    {
     "data": {
      "text/html": [
       "<div>\n",
       "<style scoped>\n",
       "    .dataframe tbody tr th:only-of-type {\n",
       "        vertical-align: middle;\n",
       "    }\n",
       "\n",
       "    .dataframe tbody tr th {\n",
       "        vertical-align: top;\n",
       "    }\n",
       "\n",
       "    .dataframe thead th {\n",
       "        text-align: right;\n",
       "    }\n",
       "</style>\n",
       "<table border=\"1\" class=\"dataframe\">\n",
       "  <thead>\n",
       "    <tr style=\"text-align: right;\">\n",
       "      <th></th>\n",
       "      <th>Idade</th>\n",
       "    </tr>\n",
       "  </thead>\n",
       "  <tbody>\n",
       "    <tr>\n",
       "      <th>0</th>\n",
       "      <td>45</td>\n",
       "    </tr>\n",
       "  </tbody>\n",
       "</table>\n",
       "</div>"
      ],
      "text/plain": [
       "   Idade\n",
       "0     45"
      ]
     },
     "metadata": {},
     "output_type": "display_data"
    },
    {
     "data": {
      "text/plain": [
       "45"
      ]
     },
     "metadata": {},
     "output_type": "display_data"
    },
    {
     "data": {
      "text/plain": [
       "'Roger'"
      ]
     },
     "metadata": {},
     "output_type": "display_data"
    }
   ],
   "source": [
    "# Acessando valore Individuais e Slicing\n",
    "display(data.loc[data.Nome == 'Roger',['Idade']]) # loc retorna pelo nome do indice\n",
    "display(data.iloc[0]['Idade']) # iloc retorna pelo indice\n",
    "display(data.iloc[0][0])"
   ]
  },
  {
   "cell_type": "code",
   "execution_count": 90,
   "id": "ae1bb1b5",
   "metadata": {},
   "outputs": [
    {
     "data": {
      "text/html": [
       "<div>\n",
       "<style scoped>\n",
       "    .dataframe tbody tr th:only-of-type {\n",
       "        vertical-align: middle;\n",
       "    }\n",
       "\n",
       "    .dataframe tbody tr th {\n",
       "        vertical-align: top;\n",
       "    }\n",
       "\n",
       "    .dataframe thead th {\n",
       "        text-align: right;\n",
       "    }\n",
       "</style>\n",
       "<table border=\"1\" class=\"dataframe\">\n",
       "  <thead>\n",
       "    <tr style=\"text-align: right;\">\n",
       "      <th></th>\n",
       "      <th>Idade</th>\n",
       "      <th>Altura</th>\n",
       "    </tr>\n",
       "  </thead>\n",
       "  <tbody>\n",
       "    <tr>\n",
       "      <th>0</th>\n",
       "      <td>45</td>\n",
       "      <td>1.80</td>\n",
       "    </tr>\n",
       "    <tr>\n",
       "      <th>1</th>\n",
       "      <td>34</td>\n",
       "      <td>1.73</td>\n",
       "    </tr>\n",
       "    <tr>\n",
       "      <th>2</th>\n",
       "      <td>56</td>\n",
       "      <td>1.78</td>\n",
       "    </tr>\n",
       "    <tr>\n",
       "      <th>3</th>\n",
       "      <td>71</td>\n",
       "      <td>1.77</td>\n",
       "    </tr>\n",
       "    <tr>\n",
       "      <th>4</th>\n",
       "      <td>46</td>\n",
       "      <td>1.71</td>\n",
       "    </tr>\n",
       "    <tr>\n",
       "      <th>5</th>\n",
       "      <td>31</td>\n",
       "      <td>1.69</td>\n",
       "    </tr>\n",
       "  </tbody>\n",
       "</table>\n",
       "</div>"
      ],
      "text/plain": [
       "   Idade  Altura\n",
       "0     45    1.80\n",
       "1     34    1.73\n",
       "2     56    1.78\n",
       "3     71    1.77\n",
       "4     46    1.71\n",
       "5     31    1.69"
      ]
     },
     "execution_count": 90,
     "metadata": {},
     "output_type": "execute_result"
    }
   ],
   "source": [
    "# Retornando com Slicing\n",
    "data.loc[1:3] # Retornando pelo valor no indice\n",
    "data.iloc[1:4] # Retornando pelo indice\n",
    "\n",
    "# Acessando valor da coluna pelo indice\n",
    "idade = data['Idade']\n",
    "idade[2] # Usando slicing\n",
    "idade.loc[data['Nome'] == 'Cristiano'] # Retornando a partir de uma condição\n",
    "\n",
    "# Retornando vetores com mais de uma coluna\n",
    "data[['Idade', 'Altura']]"
   ]
  },
  {
   "cell_type": "code",
   "execution_count": 89,
   "id": "74418f35",
   "metadata": {},
   "outputs": [
    {
     "data": {
      "text/html": [
       "<div>\n",
       "<style scoped>\n",
       "    .dataframe tbody tr th:only-of-type {\n",
       "        vertical-align: middle;\n",
       "    }\n",
       "\n",
       "    .dataframe tbody tr th {\n",
       "        vertical-align: top;\n",
       "    }\n",
       "\n",
       "    .dataframe thead th {\n",
       "        text-align: right;\n",
       "    }\n",
       "</style>\n",
       "<table border=\"1\" class=\"dataframe\">\n",
       "  <thead>\n",
       "    <tr style=\"text-align: right;\">\n",
       "      <th></th>\n",
       "      <th>Idade</th>\n",
       "      <th>Profissão</th>\n",
       "    </tr>\n",
       "  </thead>\n",
       "  <tbody>\n",
       "    <tr>\n",
       "      <th>0</th>\n",
       "      <td>45</td>\n",
       "      <td>Arquiteto</td>\n",
       "    </tr>\n",
       "    <tr>\n",
       "      <th>1</th>\n",
       "      <td>34</td>\n",
       "      <td>Programador</td>\n",
       "    </tr>\n",
       "    <tr>\n",
       "      <th>2</th>\n",
       "      <td>56</td>\n",
       "      <td>Médico</td>\n",
       "    </tr>\n",
       "    <tr>\n",
       "      <th>3</th>\n",
       "      <td>71</td>\n",
       "      <td>Aposentado</td>\n",
       "    </tr>\n",
       "    <tr>\n",
       "      <th>4</th>\n",
       "      <td>46</td>\n",
       "      <td>Desempregado</td>\n",
       "    </tr>\n",
       "    <tr>\n",
       "      <th>5</th>\n",
       "      <td>31</td>\n",
       "      <td>Enfermeira</td>\n",
       "    </tr>\n",
       "  </tbody>\n",
       "</table>\n",
       "</div>"
      ],
      "text/plain": [
       "   Idade     Profissão\n",
       "0     45     Arquiteto\n",
       "1     34   Programador\n",
       "2     56        Médico\n",
       "3     71    Aposentado\n",
       "4     46  Desempregado\n",
       "5     31    Enfermeira"
      ]
     },
     "execution_count": 89,
     "metadata": {},
     "output_type": "execute_result"
    }
   ],
   "source": [
    "# Slicing de colunas\n",
    "data.iloc[:,1:3]\n",
    "data.loc[:,'Idade':'Profissão']"
   ]
  },
  {
   "cell_type": "code",
   "execution_count": 88,
   "id": "c114a9c1",
   "metadata": {},
   "outputs": [
    {
     "data": {
      "text/html": [
       "<div>\n",
       "<style scoped>\n",
       "    .dataframe tbody tr th:only-of-type {\n",
       "        vertical-align: middle;\n",
       "    }\n",
       "\n",
       "    .dataframe tbody tr th {\n",
       "        vertical-align: top;\n",
       "    }\n",
       "\n",
       "    .dataframe thead th {\n",
       "        text-align: right;\n",
       "    }\n",
       "</style>\n",
       "<table border=\"1\" class=\"dataframe\">\n",
       "  <thead>\n",
       "    <tr style=\"text-align: right;\">\n",
       "      <th></th>\n",
       "      <th>Nome</th>\n",
       "      <th>Idade</th>\n",
       "      <th>Profissão</th>\n",
       "      <th>Altura</th>\n",
       "    </tr>\n",
       "  </thead>\n",
       "  <tbody>\n",
       "    <tr>\n",
       "      <th>0</th>\n",
       "      <td>Roger</td>\n",
       "      <td>45</td>\n",
       "      <td>Arquiteto</td>\n",
       "      <td>1.80</td>\n",
       "    </tr>\n",
       "    <tr>\n",
       "      <th>1</th>\n",
       "      <td>Cristiano</td>\n",
       "      <td>34</td>\n",
       "      <td>Programador</td>\n",
       "      <td>1.73</td>\n",
       "    </tr>\n",
       "    <tr>\n",
       "      <th>4</th>\n",
       "      <td>José</td>\n",
       "      <td>46</td>\n",
       "      <td>Desempregado</td>\n",
       "      <td>1.71</td>\n",
       "    </tr>\n",
       "    <tr>\n",
       "      <th>5</th>\n",
       "      <td>Maria</td>\n",
       "      <td>31</td>\n",
       "      <td>Enfermeira</td>\n",
       "      <td>1.69</td>\n",
       "    </tr>\n",
       "  </tbody>\n",
       "</table>\n",
       "</div>"
      ],
      "text/plain": [
       "        Nome  Idade     Profissão  Altura\n",
       "0      Roger     45     Arquiteto    1.80\n",
       "1  Cristiano     34   Programador    1.73\n",
       "4       José     46  Desempregado    1.71\n",
       "5      Maria     31    Enfermeira    1.69"
      ]
     },
     "execution_count": 88,
     "metadata": {},
     "output_type": "execute_result"
    }
   ],
   "source": [
    "# Gerando mascara no dataframe\n",
    "mask = data['Idade'] < 50  # passando a condição logica \n",
    "novo_df = data[mask]  # adicionamos a variavel com a mascara no novo df\n",
    "novo_df\n",
    "\n",
    "# nova mascara\n",
    "novo_dframe = [(data['Idade'] > 40) & (data['Altura'] > 1.75)]\n",
    "novo_dframe = data[mask]\n",
    "novo_dframe"
   ]
  },
  {
   "cell_type": "code",
   "execution_count": null,
   "id": "0489f0fd",
   "metadata": {},
   "outputs": [],
   "source": []
  },
  {
   "cell_type": "code",
   "execution_count": null,
   "id": "2ae27c04",
   "metadata": {},
   "outputs": [],
   "source": []
  },
  {
   "cell_type": "code",
   "execution_count": null,
   "id": "c3d134d8",
   "metadata": {},
   "outputs": [],
   "source": []
  },
  {
   "cell_type": "code",
   "execution_count": null,
   "id": "a45d6aaa",
   "metadata": {},
   "outputs": [],
   "source": []
  },
  {
   "cell_type": "code",
   "execution_count": null,
   "id": "99f545ee",
   "metadata": {},
   "outputs": [],
   "source": []
  },
  {
   "cell_type": "code",
   "execution_count": null,
   "id": "e57da5b7",
   "metadata": {},
   "outputs": [],
   "source": []
  },
  {
   "cell_type": "code",
   "execution_count": null,
   "id": "47c116d5",
   "metadata": {},
   "outputs": [],
   "source": []
  },
  {
   "cell_type": "code",
   "execution_count": null,
   "id": "7291b2be",
   "metadata": {},
   "outputs": [],
   "source": []
  },
  {
   "cell_type": "code",
   "execution_count": null,
   "id": "f597fbe2",
   "metadata": {},
   "outputs": [],
   "source": []
  },
  {
   "cell_type": "code",
   "execution_count": null,
   "id": "9d676565",
   "metadata": {},
   "outputs": [],
   "source": []
  },
  {
   "cell_type": "code",
   "execution_count": null,
   "id": "0433d76c",
   "metadata": {},
   "outputs": [],
   "source": []
  },
  {
   "cell_type": "code",
   "execution_count": null,
   "id": "3d824943",
   "metadata": {},
   "outputs": [],
   "source": []
  },
  {
   "cell_type": "code",
   "execution_count": null,
   "id": "67832cab",
   "metadata": {},
   "outputs": [],
   "source": []
  },
  {
   "cell_type": "code",
   "execution_count": null,
   "id": "54d1fdc3",
   "metadata": {},
   "outputs": [],
   "source": []
  },
  {
   "cell_type": "code",
   "execution_count": null,
   "id": "0d66c845",
   "metadata": {},
   "outputs": [],
   "source": []
  },
  {
   "cell_type": "code",
   "execution_count": null,
   "id": "7c5a2172",
   "metadata": {},
   "outputs": [],
   "source": []
  },
  {
   "cell_type": "code",
   "execution_count": null,
   "id": "85fab3f1",
   "metadata": {},
   "outputs": [],
   "source": []
  },
  {
   "cell_type": "code",
   "execution_count": null,
   "id": "2d8f4a35",
   "metadata": {},
   "outputs": [],
   "source": []
  }
 ],
 "metadata": {
  "kernelspec": {
   "display_name": "Python 3 (ipykernel)",
   "language": "python",
   "name": "python3"
  },
  "language_info": {
   "codemirror_mode": {
    "name": "ipython",
    "version": 3
   },
   "file_extension": ".py",
   "mimetype": "text/x-python",
   "name": "python",
   "nbconvert_exporter": "python",
   "pygments_lexer": "ipython3",
   "version": "3.9.7"
  }
 },
 "nbformat": 4,
 "nbformat_minor": 5
}
