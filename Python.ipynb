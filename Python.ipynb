{
 "cells": [
  {
   "cell_type": "markdown",
   "id": "62ca6215",
   "metadata": {},
   "source": [
    "## Formação Cientista de dados - Prof. Fernando Amaral\n",
    "\n",
    "Variáveis e Objetos"
   ]
  },
  {
   "cell_type": "code",
   "execution_count": 1,
   "id": "630589c3",
   "metadata": {},
   "outputs": [
    {
     "name": "stdout",
     "output_type": "stream",
     "text": [
      "1\n",
      "3.13\n",
      "Python\n",
      "False\n",
      "30.0\n",
      "Este texto será impresso no console\n",
      "10\n",
      "Texto e duas variáveis:  10 ,  100\n",
      "<class 'int'>\n",
      "<class 'str'>\n"
     ]
    }
   ],
   "source": [
    "#Cria variável do tipo inteiro\n",
    "x = 1\n",
    "print(x)\n",
    "#Cria variável do tipo float\n",
    "y = 3.13\n",
    "print(y)\n",
    "#Cria variável do tipo string\n",
    "m = \"Python\"\n",
    "m = 'Python'\n",
    "print(m)\n",
    "#Cria variável do tipo lógica\n",
    "w = True  \n",
    "y = False\n",
    "print(y)\n",
    "\n",
    "#calculadora\n",
    "x = 10\n",
    "y = 20\n",
    "z = 100\n",
    "w = (x + y) * z / 100\n",
    "print(w)\n",
    "\n",
    "#exibir texto no console\n",
    "print(\"Este texto será impresso no console\")\n",
    "print(x)\n",
    "print(\"Texto e duas variáveis: \", x ,\", \", z)\n",
    "\n",
    "#verificar tipo\n",
    "print(type(x))\n",
    "print(type(m))\n"
   ]
  },
  {
   "cell_type": "code",
   "execution_count": 3,
   "id": "28ea1cf7",
   "metadata": {},
   "outputs": [
    {
     "name": "stdout",
     "output_type": "stream",
     "text": [
      "Informe o valor: \n",
      "4\n",
      "<class 'str'>\n",
      "Informe o valor: \n",
      "r\n",
      "Informe o valor: 52\n",
      "Informe o valor: 4\n",
      "<class 'str'>\n",
      "<class 'int'>\n",
      "Informe o valor: 9\n",
      "<class 'str'>\n",
      "<class 'float'>\n"
     ]
    }
   ],
   "source": [
    "#entrada de dados\n",
    "print(\"Informe o valor: \")\n",
    "i = input()\n",
    "#mostra tipo string\n",
    "print(type(i))\n",
    "\n",
    "#entrada de valor com msg separada e junto\n",
    "print(\"Informe o valor: \")\n",
    "i = input()\n",
    "# ou\n",
    "i = input(\"Informe o valor: \")\n",
    "\n",
    "#conversão de valores\n",
    "#para inteiro\n",
    "var = input(\"Informe o valor: \")\n",
    "print(type(var))\n",
    "var = int(var)\n",
    "print(type(var))\n",
    "\n",
    "#para float\n",
    "var = input(\"Informe o valor: \")\n",
    "print(type(var))\n",
    "var = float(var)\n",
    "print(type(var))"
   ]
  },
  {
   "cell_type": "markdown",
   "id": "562f246f",
   "metadata": {},
   "source": [
    "Estrutura de Decisão"
   ]
  },
  {
   "cell_type": "code",
   "execution_count": 4,
   "id": "3e595a81",
   "metadata": {},
   "outputs": [
    {
     "name": "stdout",
     "output_type": "stream",
     "text": [
      "Aprovado\n",
      "Parabéns!\n",
      "Reprovado\n",
      "Aprovado\n"
     ]
    }
   ],
   "source": [
    "nota = 7\n",
    "if nota >= 7:\n",
    "    print(\"Aprovado\")\n",
    "    print(\"Parabéns!\")\n",
    "else:\n",
    "    print(\"Reprovado\")\n",
    "    \n",
    "#só mudar o valor da variável\n",
    "nota = 5\n",
    "if nota >= 7:\n",
    "    print(\"Aprovado\")\n",
    "else:\n",
    "    print(\"Reprovado\")\n",
    "    \n",
    "#Testar com 4,5 e 7\n",
    "nota = 7\n",
    "if nota <= 4:\n",
    "    print(\"Reprovado\")\n",
    "elif nota > 4 and nota <=6:\n",
    "    print(\"Exame\")\n",
    "else:\n",
    "    print(\"Aprovado\")"
   ]
  },
  {
   "cell_type": "markdown",
   "id": "bc31c82f",
   "metadata": {},
   "source": [
    "Estrutura de Repetição"
   ]
  },
  {
   "cell_type": "code",
   "execution_count": 5,
   "id": "b51dcd63",
   "metadata": {},
   "outputs": [
    {
     "name": "stdout",
     "output_type": "stream",
     "text": [
      "1\n",
      "2\n",
      "3\n",
      "4\n",
      "5\n",
      "1\n",
      "2\n",
      "3\n",
      "4\n",
      "5\n",
      "6\n",
      "7\n",
      "8\n",
      "9\n",
      "10\n",
      "1\n",
      "2\n",
      "3\n",
      "4\n",
      "5\n",
      "6\n",
      "7\n",
      "8\n",
      "9\n",
      "10\n",
      "10\n",
      "9\n",
      "8\n",
      "7\n",
      "6\n",
      "5\n",
      "4\n",
      "3\n",
      "2\n",
      "1\n",
      "0\n",
      "1\n",
      "2\n",
      "3\n",
      "0\n",
      "1\n",
      "2\n",
      "3\n",
      "5\n",
      "6\n",
      "7\n",
      "8\n",
      "9\n"
     ]
    }
   ],
   "source": [
    "#exemplo com while\n",
    "count = 1\n",
    "while count <= 5:\n",
    "    print(count)\n",
    "    count += 1\n",
    "    \n",
    "#range(0, 10, 1):\n",
    "#range(inicio, parada, incremento)\n",
    "#o python \"igonora\" o ultimo valor de intervalos\n",
    "#O incremento pode ser negativo\n",
    "\n",
    "#for normal\n",
    "for n in range(0, 10):\n",
    "    print(n+1)\n",
    "    \n",
    "for n in range(1, 11):\n",
    "    print(n)\n",
    "    \n",
    "    \n",
    "#for decrecente\n",
    "for n in range(10, 0,-1):\n",
    "    print(n)\n",
    "    \n",
    "#exemplo com break\n",
    "#vai parar no 3 pois o break está antes do print\n",
    "for n in range(0, 10):\n",
    "    if n==4:\n",
    "        break\n",
    "    print(n)\n",
    "    \n",
    "#exemplo com continue\n",
    "#vai pular o numero 4\n",
    "for n in range(0, 10):\n",
    "    if n==4:\n",
    "        continue\n",
    "    print(n)"
   ]
  },
  {
   "cell_type": "markdown",
   "id": "d7da5ff2",
   "metadata": {},
   "source": [
    "Estruturas de Dados - Listas/Tuplas/Dicionarios/Conjuntos"
   ]
  },
  {
   "cell_type": "code",
   "execution_count": 6,
   "id": "0510c42c",
   "metadata": {},
   "outputs": [
    {
     "name": "stdout",
     "output_type": "stream",
     "text": [
      "[1, 2, 3, 4, 5]\n",
      "[1, 2, 3, '4', True]\n",
      "[12, [1, 2, 3, 4, 5], 'a']\n",
      "[0, 1, 2, 3, 4, 5, 6, 7, 8, 9]\n",
      "5\n",
      "1\n",
      "[1, 2, 3, 4, 5]\n",
      "[4, 2, 3, 4, 5]\n",
      "1\n",
      "2\n",
      "3\n",
      "4\n",
      "5\n",
      "6\n",
      "7\n",
      "8\n",
      "9\n",
      "10\n"
     ]
    }
   ],
   "source": [
    "#formas de criar listas\n",
    "lst = [1,2,3,4,5]\n",
    "print(lst)\n",
    "\n",
    "#vários tipos\n",
    "lst2 = [1,2,3,\"4\",True]\n",
    "print(lst2)\n",
    "\n",
    "#lista com lista\n",
    "lst3 = [12,[1,2,3,4,5],\"a\"]\n",
    "print(lst3)\n",
    "\n",
    "#criando lista com range\n",
    "lst4 = list(range(0,10))\n",
    "print(lst4)\n",
    "\n",
    "#comprimento da lista\n",
    "print(len(lst))\n",
    "\n",
    "#acessando elemento\n",
    "print(lst[0])\n",
    "#posiçõo 1 é uma lista\n",
    "print(lst3[1])\n",
    "#alterando posição\n",
    "lst[0] = 4\n",
    "print(lst)\n",
    "\n",
    "#percorrendo lista\n",
    "for n in range(0, len(lst4)):\n",
    "    print(lst4[n]+1)"
   ]
  },
  {
   "cell_type": "code",
   "execution_count": 7,
   "id": "d025bb50",
   "metadata": {},
   "outputs": [
    {
     "name": "stdout",
     "output_type": "stream",
     "text": [
      "{'João': 6.0, 'Maria': 8.0, 'Pedro': 6.5}\n",
      "6.0\n",
      "True\n",
      "False\n",
      "{'Maria': 8.0, 'Pedro': 6.5}\n",
      "{'Maria': 8.0, 'Pedro': 6.5, 'Ana': 9}\n",
      "{'Spark', 'Hive', 'Sqoop'}\n",
      "True\n",
      "4\n",
      "<class 'dict'>\n",
      "<class 'set'>\n",
      "<class 'tuple'>\n"
     ]
    }
   ],
   "source": [
    "#dicionários: estrutura chave/valor\n",
    "Notas = {'João': 6.0, 'Maria': 8.0, 'Pedro': 6.5}\n",
    "print(Notas)\n",
    "\n",
    "print(Notas['João'])\n",
    "\n",
    "#Todasd as chaves\n",
    "Notas.keys()\n",
    "\n",
    "#todos os valores\n",
    "Notas.values()\n",
    "\n",
    "#Testa logicamente a existência\n",
    "print('João' in Notas)\n",
    "print('Fernando' in Notas)\n",
    "\n",
    "#apaga um elemento\n",
    "del Notas['João']\n",
    "print(Notas)\n",
    "\n",
    "#inclui um elemento\n",
    "Notas['Ana'] = 9\n",
    "print(Notas)\n",
    "\n",
    "#busca um valor, se não encontrar mostra segundo parametro\n",
    "Notas.get('Geraldo',\"Não encontrado!\")\n",
    "\n",
    "#sets são conjuntos não ordenados de elementos não repetidos\n",
    "bigdata = {'Spark', 'Hive', \"Sqoop\"}\n",
    "print(bigdata)\n",
    "\n",
    "#verifica existência\n",
    "print('Spark' in bigdata)\n",
    "\n",
    "#adiciona elemento\n",
    "bigdata.add('Hadoop')\n",
    "bigdata\n",
    "\n",
    "#número de elementos\n",
    "print(len(bigdata))\n",
    "\n",
    "bigdata.add(\"Spark\")\n",
    "bigdata\n",
    "\n",
    "#tuplas são listas que não podem ser alteradas\n",
    "#listas usam [], tuplas usam ()\n",
    "tupla = (1,2,3,4,5,6,7)\n",
    "tupla\n",
    "\n",
    "tupla[4]\n",
    "\n",
    "#dicionários em que cada posição recebe uma tupla\n",
    "dic2 = {(0, 1): 0, (1, 2): 1, (2, 3): 2, (3, 4): 3, (4, 5): 4,(5, 6): 5, (6, 7): 6, (7, 8): 7, (8, 9): 8, (9, 10): 9}\n",
    "dic2\n",
    "\n",
    "print(type(Notas))\n",
    "print(type(bigdata))\n",
    "print(type(tupla))"
   ]
  },
  {
   "cell_type": "markdown",
   "id": "2b7b86a2",
   "metadata": {},
   "source": [
    "Funções e Funções Padrão"
   ]
  },
  {
   "cell_type": "code",
   "execution_count": 8,
   "id": "3bcd1499",
   "metadata": {},
   "outputs": [
    {
     "name": "stdout",
     "output_type": "stream",
     "text": [
      "esta é uma função\n",
      "Impressão deste texto\n",
      "9\n",
      "1\n",
      "2\n",
      "3\n",
      "4\n",
      "5\n",
      "6\n",
      "7\n",
      "8\n",
      "9\n",
      "10\n",
      "1\n",
      "2\n",
      "3\n",
      "4\n",
      "5\n",
      "6\n",
      "7\n",
      "8\n",
      "9\n",
      "10\n"
     ]
    }
   ],
   "source": [
    "def imprime():\n",
    "    print(\"esta é uma função\")\n",
    "\n",
    "imprime()\n",
    "\n",
    "#com parametro\n",
    "def imprime(n):\n",
    "    print(n)\n",
    "\n",
    "imprime(\"Impressão deste texto\")\n",
    "\n",
    "#com retorno\n",
    "def potencia(n):\n",
    "    return n * n\n",
    "\n",
    "x = potencia(3)\n",
    "print(x)\n",
    "\n",
    "#com valor default\n",
    "def intervalo(inic=1,fim=10):\n",
    "    for n in range(inic, fim+1):\n",
    "        print(n)\n",
    "\n",
    "x = intervalo(1,10)\n",
    "y = intervalo()"
   ]
  },
  {
   "cell_type": "code",
   "execution_count": 9,
   "id": "5c3c9953",
   "metadata": {
    "scrolled": false
   },
   "outputs": [
    {
     "name": "stdout",
     "output_type": "stream",
     "text": [
      "200\n",
      "Maior valor:  45\n",
      "Menor valor:  1\n",
      "Soma:  108\n",
      "Arredondamento:  2.35\n",
      "Média:  21.6\n",
      "Mediana:  30\n",
      "Moda:  30\n",
      "Desvio padrão:  19.346834366376324\n",
      "Variância:  374.3\n",
      "<class 'numpy.ndarray'>\n",
      "[[0.41961119 0.98608584 0.58952468 0.44168508 0.46429839 0.56804106\n",
      "  0.75161042 0.34030625]\n",
      " [0.40884998 0.04283604 0.45257618 0.50787289 0.41902582 0.27468449\n",
      "  0.93180051 0.31577997]\n",
      " [0.28959274 0.03276955 0.68526925 0.28419895 0.66152465 0.67518977\n",
      "  0.38622299 0.6706352 ]\n",
      " [0.20262296 0.91797778 0.83859978 0.18827714 0.36499921 0.12229975\n",
      "  0.07223353 0.00448819]\n",
      " [0.38644402 0.0187856  0.38538678 0.66716452 0.97517412 0.99968302\n",
      "  0.41567722 0.41917822]\n",
      " [0.34646236 0.34706273 0.31482117 0.50724825 0.06077563 0.38771105\n",
      "  0.46629059 0.14851943]\n",
      " [0.64096656 0.17777765 0.92736856 0.46776819 0.06252213 0.08736807\n",
      "  0.10637232 0.25536297]\n",
      " [0.84290184 0.99299181 0.96715077 0.91848689 0.30050595 0.57680982\n",
      "  0.12992954 0.91990473]]\n"
     ]
    }
   ],
   "source": [
    "#funções internas\n",
    "print(abs(-200))\n",
    "lst = [1,2,30,30,45]\n",
    "print(\"Maior valor: \", max(lst))\n",
    "print(\"Menor valor: \", min(lst))\n",
    "print(\"Soma: \", sum(lst))\n",
    "print(\"Arredondamento: \", round(2.34567,2))\n",
    "\n",
    "#statistica\n",
    "from statistics import *\n",
    "print(\"Média: \", mean(lst))\n",
    "print(\"Mediana: \", median(lst))\n",
    "print(\"Moda: \", mode(lst))\n",
    "\n",
    "#desvio padrão da amostra\n",
    "print(\"Desvio padrão: \", stdev(lst))\n",
    "\n",
    "#variancia da amostra\n",
    "print(\"Variância: \", variance(lst))\n",
    "\n",
    "from numpy import *\n",
    "a = random.random((8,8))\n",
    "print(type(a))\n",
    "print(a)"
   ]
  },
  {
   "cell_type": "code",
   "execution_count": null,
   "id": "ab792b70",
   "metadata": {},
   "outputs": [],
   "source": []
  },
  {
   "cell_type": "code",
   "execution_count": null,
   "id": "4a742508",
   "metadata": {},
   "outputs": [],
   "source": []
  },
  {
   "cell_type": "code",
   "execution_count": null,
   "id": "906d0eae",
   "metadata": {},
   "outputs": [],
   "source": []
  },
  {
   "cell_type": "code",
   "execution_count": null,
   "id": "9f2d1cf9",
   "metadata": {},
   "outputs": [],
   "source": []
  },
  {
   "cell_type": "code",
   "execution_count": null,
   "id": "106030fd",
   "metadata": {},
   "outputs": [],
   "source": []
  },
  {
   "cell_type": "code",
   "execution_count": null,
   "id": "b9447aee",
   "metadata": {},
   "outputs": [],
   "source": []
  },
  {
   "cell_type": "code",
   "execution_count": null,
   "id": "0f393bf7",
   "metadata": {},
   "outputs": [],
   "source": []
  },
  {
   "cell_type": "code",
   "execution_count": null,
   "id": "0d66c845",
   "metadata": {},
   "outputs": [],
   "source": []
  },
  {
   "cell_type": "code",
   "execution_count": null,
   "id": "7c5a2172",
   "metadata": {},
   "outputs": [],
   "source": []
  },
  {
   "cell_type": "code",
   "execution_count": null,
   "id": "85fab3f1",
   "metadata": {},
   "outputs": [],
   "source": []
  },
  {
   "cell_type": "code",
   "execution_count": null,
   "id": "2d8f4a35",
   "metadata": {},
   "outputs": [],
   "source": []
  }
 ],
 "metadata": {
  "kernelspec": {
   "display_name": "Python 3 (ipykernel)",
   "language": "python",
   "name": "python3"
  },
  "language_info": {
   "codemirror_mode": {
    "name": "ipython",
    "version": 3
   },
   "file_extension": ".py",
   "mimetype": "text/x-python",
   "name": "python",
   "nbconvert_exporter": "python",
   "pygments_lexer": "ipython3",
   "version": "3.9.7"
  }
 },
 "nbformat": 4,
 "nbformat_minor": 5
}
